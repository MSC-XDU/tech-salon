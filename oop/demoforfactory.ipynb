{
 "cells": [
  {
   "cell_type": "code",
   "execution_count": 1,
   "metadata": {
    "collapsed": true
   },
   "outputs": [],
   "source": [
    "class kvModule:\n",
    "    def __init__(self,kvdb):\n",
    "        self.kvdb = kvdb\n",
    "    def get(self,key):\n",
    "        return self.kvdb[key]\n",
    "    def set(self,key,value):\n",
    "        self.kvdb[key] = value\n",
    "        # self.kvdb.save()\n",
    "        return self.kvdb[key]"
   ]
  },
  {
   "cell_type": "code",
   "execution_count": 2,
   "metadata": {
    "collapsed": true
   },
   "outputs": [],
   "source": [
    "# 假设这是一个 MySQL 的接口\n",
    "class mysql:\n",
    "    def __init__(self):\n",
    "        self.__dict = {}\n",
    "    def __getitem__(self,key):\n",
    "        try:\n",
    "            return self.__dict[key]\n",
    "        except KeyError:\n",
    "            return None\n",
    "    def __setitem__(self,key,value):\n",
    "        self.__dict[key] = value\n",
    "        return self.__dict[key]"
   ]
  },
  {
   "cell_type": "code",
   "execution_count": 3,
   "metadata": {
    "collapsed": false
   },
   "outputs": [
    {
     "name": "stdout",
     "output_type": "stream",
     "text": [
      "4\n"
     ]
    }
   ],
   "source": [
    "demo1 = {i:i**2 for i in range(1,10)}\n",
    "kv = kvModule(demo1)\n",
    "print kv.get(2)"
   ]
  },
  {
   "cell_type": "code",
   "execution_count": 6,
   "metadata": {
    "collapsed": false
   },
   "outputs": [
    {
     "name": "stdout",
     "output_type": "stream",
     "text": [
      "world\n"
     ]
    }
   ],
   "source": [
    "demo2 = mysql()\n",
    "demo2['hello'] = 'world'\n",
    "kv2 = kvModule(demo2)\n",
    "print kv2.get(\"hello\")"
   ]
  },
  {
   "cell_type": "code",
   "execution_count": 8,
   "metadata": {
    "collapsed": false
   },
   "outputs": [],
   "source": [
    "class cook:\n",
    "    def __init__(self):\n",
    "        self.food = {}\n",
    "    \n",
    "    def add(self,name,howToMake):\n",
    "        self.food[name] = howToMake\n",
    "    \n",
    "    def get(self,name):\n",
    "        try:\n",
    "            return self.food[name]()\n",
    "        except KeyError:\n",
    "            print \"I don't know how to make\"\n",
    "            return None\n",
    "\n",
    "class shitang: # 食堂菜\n",
    "    pass # 列出怎么做的\n",
    "\n",
    "class pizzahat: # 必胜客\n",
    "    pass # 列出怎么做的\n",
    "\n",
    "c = cook()\n",
    "c.add(\"shitang\",shitang)\n",
    "c.add(\"pizzahat\",pizzahat)\n",
    "st = c.get(\"shitang\")\n",
    "ph = c.get(\"pizzahat\")"
   ]
  },
  {
   "cell_type": "code",
   "execution_count": 11,
   "metadata": {
    "collapsed": false
   },
   "outputs": [
    {
     "data": {
      "text/plain": [
       "'__main__'"
      ]
     },
     "execution_count": 11,
     "metadata": {},
     "output_type": "execute_result"
    }
   ],
   "source": [
    "st.__module__"
   ]
  },
  {
   "cell_type": "code",
   "execution_count": null,
   "metadata": {
    "collapsed": true
   },
   "outputs": [],
   "source": []
  }
 ],
 "metadata": {
  "kernelspec": {
   "display_name": "Python 2",
   "language": "python",
   "name": "python2"
  },
  "language_info": {
   "codemirror_mode": {
    "name": "ipython",
    "version": 2
   },
   "file_extension": ".py",
   "mimetype": "text/x-python",
   "name": "python",
   "nbconvert_exporter": "python",
   "pygments_lexer": "ipython2",
   "version": "2.7.10"
  }
 },
 "nbformat": 4,
 "nbformat_minor": 0
}
