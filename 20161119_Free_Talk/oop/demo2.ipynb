{
 "cells": [
  {
   "cell_type": "code",
   "execution_count": 1,
   "metadata": {
    "collapsed": true
   },
   "outputs": [],
   "source": [
    "class cook:\n",
    "    def __init__(self):\n",
    "        self.food = {}\n",
    "    \n",
    "    def add(self,name,howToMake):\n",
    "        self.food[name] = howToMake\n",
    "    \n",
    "    def get(self,name):\n",
    "        try:\n",
    "            return self.food[name]()\n",
    "        except KeyError:\n",
    "            print \"I don't know how to make\"\n",
    "            return None\n",
    "        \n",
    "class shitang: # 食堂菜\n",
    "    pass # 列出怎么做的\n",
    "\n",
    "class pizzahat: # 必胜客\n",
    "    pass # 列出怎么做的\n",
    "\n",
    "c = cook()\n",
    "c.add(\"shitang\",shitang)\n",
    "c.add(\"pizzahat\",pizzahat)\n",
    "st = c.get(\"shitang\")\n",
    "ph = c.get(\"pizzahat\")"
   ]
  },
  {
   "cell_type": "code",
   "execution_count": 8,
   "metadata": {
    "collapsed": true
   },
   "outputs": [],
   "source": [
    "def log(func):\n",
    "    def wrapper(*args):\n",
    "        # 为了方便，以 print 代替向数据库记录菜品的过程\n",
    "        print args[1] # 即第二个参数，菜品的名字\n",
    "        return func(*args)\n",
    "    return wrapper"
   ]
  },
  {
   "cell_type": "code",
   "execution_count": 9,
   "metadata": {
    "collapsed": true
   },
   "outputs": [],
   "source": [
    "class cook:\n",
    "    def __init__(self):\n",
    "        self.food = {}\n",
    "    \n",
    "    def add(self,name,howToMake):\n",
    "        self.food[name] = howToMake\n",
    "    \n",
    "    @log # get = log(get(*args))\n",
    "    def get(self,name):\n",
    "        try:\n",
    "            return self.food[name]()\n",
    "        except KeyError:\n",
    "            print \"I don't know how to make\"\n",
    "            return None"
   ]
  },
  {
   "cell_type": "code",
   "execution_count": 10,
   "metadata": {
    "collapsed": false
   },
   "outputs": [
    {
     "name": "stdout",
     "output_type": "stream",
     "text": [
      "shitang\n",
      "pizzahat\n"
     ]
    }
   ],
   "source": [
    "c = cook()\n",
    "c.add(\"shitang\",shitang)\n",
    "c.add(\"pizzahat\",pizzahat)\n",
    "st = c.get(\"shitang\")\n",
    "ph = c.get(\"pizzahat\")"
   ]
  },
  {
   "cell_type": "code",
   "execution_count": null,
   "metadata": {
    "collapsed": true
   },
   "outputs": [],
   "source": []
  }
 ],
 "metadata": {
  "kernelspec": {
   "display_name": "Python 2",
   "language": "python",
   "name": "python2"
  },
  "language_info": {
   "codemirror_mode": {
    "name": "ipython",
    "version": 2
   },
   "file_extension": ".py",
   "mimetype": "text/x-python",
   "name": "python",
   "nbconvert_exporter": "python",
   "pygments_lexer": "ipython2",
   "version": "2.7.10"
  }
 },
 "nbformat": 4,
 "nbformat_minor": 0
}
